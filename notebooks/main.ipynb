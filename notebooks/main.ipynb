{
 "cells": [
  {
   "cell_type": "code",
   "execution_count": 1,
   "id": "c9800b8c-733d-4e4b-b00c-23e6b3dcc11f",
   "metadata": {},
   "outputs": [
    {
     "name": "stdout",
     "output_type": "stream",
     "text": [
      "Total params: 4554\n",
      "name: input\n",
      "neurons: 0\n",
      "activation function: None \n",
      "params: 0\n",
      "------------------------\n",
      "name: hidden\n",
      "neurons: 32\n",
      "activation function: relu \n",
      "params: 32\n",
      "------------------------\n",
      "name: hidden2\n",
      "neurons: 64\n",
      "activation function: relu \n",
      "params: 2112\n",
      "------------------------\n",
      "name: hidden3\n",
      "neurons: 32\n",
      "activation function: relu \n",
      "params: 2080\n",
      "------------------------\n",
      "name: output\n",
      "neurons: 10\n",
      "activation function: softmax \n",
      "params: 330\n",
      "------------------------\n"
     ]
    }
   ],
   "source": [
    "from neural_network.network import NeuralNetwork\n",
    "\n",
    "from neural_network.layers.input_layer import InputLayer\n",
    "from neural_network.layers.dense_layer import DenseLayer\n",
    "from neural_network.layers.output_layer import OutputLayer\n",
    "\n",
    "model = [\n",
    "    InputLayer(\"input\", 784), \n",
    "    DenseLayer(\"hidden\", 32, activation=\"relu\"),\n",
    "    DenseLayer(\"hidden2\", 64, activation=\"relu\"),\n",
    "    DenseLayer(\"hidden3\", 32, activation=\"relu\"),\n",
    "    OutputLayer(\"output\", 10, activation=\"softmax\")\n",
    "]\n",
    "\n",
    "nn = NeuralNetwork(model, opt=\"gd\" , loss=\"cce\")\n",
    "print(nn)"
   ]
  },
  {
   "cell_type": "markdown",
   "id": "351a1140-1afa-4fdf-9051-cb35c308fedb",
   "metadata": {},
   "source": [
    "# Training tests\n"
   ]
  },
  {
   "cell_type": "code",
   "execution_count": 2,
   "id": "9ecdf91d-86ab-4c1a-b05c-aff7fff1c997",
   "metadata": {},
   "outputs": [],
   "source": [
    "import tensorflow as tf\n",
    "mnist = tf.keras.datasets.mnist\n",
    "\n",
    "(x_train, y_train), (x_test, y_test) = mnist.load_data()\n",
    "x_train, x_test = x_train / 255.0, x_test / 255.0 # normalisation"
   ]
  },
  {
   "cell_type": "markdown",
   "id": "762b814d-22f3-432b-9ebc-d5402bf2dfd0",
   "metadata": {},
   "source": [
    "First test: front forward 1 image"
   ]
  },
  {
   "cell_type": "code",
   "execution_count": 3,
   "id": "8e985d23-b38d-41c4-b6b7-23ca8af15d2f",
   "metadata": {},
   "outputs": [],
   "source": [
    "# import numpy as np\n",
    "import matplotlib.pyplot as plt\n",
    "\n",
    "index = 2 # np.random.randint(0, x_train.shape[0])\n",
    "image3 = x_train[index]\n",
    "label3 = y_train[index]\n",
    "index = 4 # np.random.randint(0, x_train.shape[0])\n",
    "image5 = x_train[index]\n",
    "label5 = y_train[index]\n",
    "\n",
    "# sample display\n",
    "#plt.imshow(image, cmap='gray')\n",
    "#plt.title(f'Class: {label}')\n",
    "#plt.colorbar()\n",
    "#plt.grid(False)\n",
    "#plt.show()"
   ]
  },
  {
   "cell_type": "code",
   "execution_count": 4,
   "id": "d3ddc674-b1ff-41ec-a504-41a9e2c1d429",
   "metadata": {},
   "outputs": [],
   "source": [
    "# res = nn.sample_forward(image3)\n",
    "# print(res)"
   ]
  },
  {
   "cell_type": "code",
   "execution_count": 5,
   "id": "9b9fbbe9-2e15-4c1f-872f-2e15dcad5536",
   "metadata": {
    "scrolled": true
   },
   "outputs": [],
   "source": [
    "# nn.fit_training(samples=[image3, image5], labels=[label3, label5], batch_size=2, epochs=1)"
   ]
  },
  {
   "cell_type": "code",
   "execution_count": 6,
   "id": "13f229b1-c8f5-4d3f-866c-867f9b71c6c8",
   "metadata": {},
   "outputs": [],
   "source": [
    "# for layer in nn.layers:\n",
    "#    print(\"LAYER: \", layer.name, \"\\n\")\n",
    "#    for neuron in layer.neurons:\n",
    "#        print(\"    WEIGHTS: \\n\")\n",
    "#        # print(neuron.weights)\n",
    "#        print(\"\\n     BIAS GRAD: \\n\")\n",
    "#        print(neuron.bias, \"\\n\")\n",
    "#    print(\"\\n\\n\\n\\n\\n\\n\\n\\n\\n\\n\\n\\n\")"
   ]
  },
  {
   "cell_type": "markdown",
   "id": "ccdba7ca-ef72-4b39-b5c1-fbcccfc3678f",
   "metadata": {},
   "source": [
    "<br/><br/>\n",
    "\n",
    "Second test: forward 200 images"
   ]
  },
  {
   "cell_type": "code",
   "execution_count": 7,
   "id": "fa6ec0a8-9148-462c-afb0-168b948a9996",
   "metadata": {},
   "outputs": [
    {
     "name": "stdout",
     "output_type": "stream",
     "text": [
      "--- Batch n°0, batchlen= 100\n",
      "\n",
      "--- Batch n°1, batchlen= 100\n",
      "\n",
      "LOSS (batch):\n",
      "[2.3012481248124548, 2.294140684995237] \n",
      "\n",
      "ACCURACY (batch):\n",
      "[0.08, 0.16] \n",
      "\n"
     ]
    }
   ],
   "source": [
    "x_train = x_train[:200]\n",
    "y_train = y_train[:200]\n",
    "\n",
    "nn.fit_training(samples=x_train, labels=y_train, batch_size=100, epochs=1)"
   ]
  },
  {
   "cell_type": "code",
   "execution_count": 8,
   "id": "7d6a078e-2d4e-419f-b081-5cdb1442a514",
   "metadata": {},
   "outputs": [],
   "source": [
    "nn.save()"
   ]
  },
  {
   "cell_type": "code",
   "execution_count": 9,
   "id": "f25dc405-f731-4eb1-a129-518a0244e576",
   "metadata": {},
   "outputs": [
    {
     "name": "stdout",
     "output_type": "stream",
     "text": [
      "LayerType:   InputLayer\n"
     ]
    },
    {
     "ename": "TypeError",
     "evalue": "InputLayer.__init__() takes 3 positional arguments but 4 were given",
     "output_type": "error",
     "traceback": [
      "\u001b[0;31m---------------------------------------------------------------------------\u001b[0m",
      "\u001b[0;31mTypeError\u001b[0m                                 Traceback (most recent call last)",
      "Cell \u001b[0;32mIn[9], line 1\u001b[0m\n\u001b[0;32m----> 1\u001b[0m \u001b[43mnn\u001b[49m\u001b[38;5;241;43m.\u001b[39;49m\u001b[43mload\u001b[49m\u001b[43m(\u001b[49m\u001b[43m)\u001b[49m\n",
      "File \u001b[0;32m~/Documents/projets/_informatique/github/2023 - 2024/educationnal-neural-network/neural_network/network.py:269\u001b[0m, in \u001b[0;36mNeuralNetwork.load\u001b[0;34m(self)\u001b[0m\n\u001b[1;32m    268\u001b[0m \u001b[38;5;28;01mdef\u001b[39;00m \u001b[38;5;21mload\u001b[39m(\u001b[38;5;28mself\u001b[39m):\n\u001b[0;32m--> 269\u001b[0m     layers, optimizer, loss \u001b[38;5;241m=\u001b[39m \u001b[38;5;28;43mself\u001b[39;49m\u001b[38;5;241;43m.\u001b[39;49m\u001b[43mmodel_serializer\u001b[49m\u001b[38;5;241;43m.\u001b[39;49m\u001b[43mload_model\u001b[49m\u001b[43m(\u001b[49m\u001b[43m)\u001b[49m\n\u001b[1;32m    270\u001b[0m     \u001b[38;5;28mself\u001b[39m\u001b[38;5;241m.\u001b[39moptimizer \u001b[38;5;241m=\u001b[39m optimizer\n\u001b[1;32m    271\u001b[0m     \u001b[38;5;28mself\u001b[39m\u001b[38;5;241m.\u001b[39mloss_func \u001b[38;5;241m=\u001b[39m loss\n",
      "File \u001b[0;32m~/Documents/projets/_informatique/github/2023 - 2024/educationnal-neural-network/neural_network/model_serializer.py:53\u001b[0m, in \u001b[0;36mModelSerializer.load_model\u001b[0;34m(self)\u001b[0m\n\u001b[1;32m     50\u001b[0m activation \u001b[38;5;241m=\u001b[39m group\u001b[38;5;241m.\u001b[39mattrs[\u001b[38;5;124m'\u001b[39m\u001b[38;5;124mactivation\u001b[39m\u001b[38;5;124m'\u001b[39m]\n\u001b[1;32m     52\u001b[0m name \u001b[38;5;241m=\u001b[39m group\u001b[38;5;241m.\u001b[39mattrs[\u001b[38;5;124m'\u001b[39m\u001b[38;5;124mname\u001b[39m\u001b[38;5;124m'\u001b[39m]\n\u001b[0;32m---> 53\u001b[0m layer \u001b[38;5;241m=\u001b[39m \u001b[43mklass\u001b[49m\u001b[43m(\u001b[49m\u001b[43mname\u001b[49m\u001b[43m,\u001b[49m\u001b[43m \u001b[49m\u001b[43mnb_neurons\u001b[49m\u001b[43m,\u001b[49m\u001b[43m \u001b[49m\u001b[43mactivation\u001b[49m\u001b[43m)\u001b[49m\n\u001b[1;32m     54\u001b[0m \u001b[38;5;28;01mfor\u001b[39;00m neuron \u001b[38;5;129;01min\u001b[39;00m layer\u001b[38;5;241m.\u001b[39mneurons:\n\u001b[1;32m     55\u001b[0m     weights \u001b[38;5;241m=\u001b[39m group[\u001b[38;5;124m'\u001b[39m\u001b[38;5;124mweights\u001b[39m\u001b[38;5;124m'\u001b[39m][:]\n",
      "\u001b[0;31mTypeError\u001b[0m: InputLayer.__init__() takes 3 positional arguments but 4 were given"
     ]
    }
   ],
   "source": [
    "nn.load()"
   ]
  }
 ],
 "metadata": {
  "kernelspec": {
   "display_name": "Python 3 (ipykernel)",
   "language": "python",
   "name": "python3"
  },
  "language_info": {
   "codemirror_mode": {
    "name": "ipython",
    "version": 3
   },
   "file_extension": ".py",
   "mimetype": "text/x-python",
   "name": "python",
   "nbconvert_exporter": "python",
   "pygments_lexer": "ipython3",
   "version": "3.10.11"
  }
 },
 "nbformat": 4,
 "nbformat_minor": 5
}
