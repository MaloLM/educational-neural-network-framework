{
 "cells": [
  {
   "cell_type": "code",
   "execution_count": 6,
   "id": "c9800b8c-733d-4e4b-b00c-23e6b3dcc11f",
   "metadata": {},
   "outputs": [],
   "source": [
    "from neural_network.network import NeuralNetwork\n",
    "\n",
    "from neural_network.layers.input_layer import InputLayer\n",
    "from neural_network.layers.dense_layer import DenseLayer\n",
    "from neural_network.layers.output_layer import OutputLayer\n",
    "\n",
    "input = InputLayer(\"input\", 32)\n",
    "hidden = DenseLayer(\"hidden\", 32, \"relu\")\n",
    "hidden2 = DenseLayer(\"hidden2\", 32, \"relu\")\n",
    "hidden3 = DenseLayer(\"hidden3\", 32, \"relu\")\n",
    "output = OutputLayer(\"output\", 8, \"softmax\")\n",
    "\n",
    "structure = [\n",
    "    input, \n",
    "    hidden,\n",
    "    hidden2,\n",
    "    hidden3,\n",
    "    output\n",
    "]"
   ]
  },
  {
   "cell_type": "code",
   "execution_count": 7,
   "id": "38960329-12ba-49f7-80e1-5135af3d316f",
   "metadata": {},
   "outputs": [
    {
     "name": "stdout",
     "output_type": "stream",
     "text": [
      "Total params: 2408\n",
      "name: input\n",
      " num neurons: 0\n",
      " activation function: None \n",
      " params: 0\n",
      "------------------------\n",
      "name: hidden\n",
      " num neurons: 32\n",
      " activation function: relu \n",
      " params: 32\n",
      "------------------------\n",
      "name: hidden2\n",
      " num neurons: 32\n",
      " activation function: relu \n",
      " params: 1056\n",
      "------------------------\n",
      "name: hidden3\n",
      " num neurons: 32\n",
      " activation function: relu \n",
      " params: 1056\n",
      "------------------------\n",
      "name: output\n",
      " num neurons: 8\n",
      " activation function: softmax \n",
      " params: 264\n",
      "------------------------\n"
     ]
    }
   ],
   "source": [
    "nn = NeuralNetwork(structure, \"gradient\")\n",
    "print(nn)"
   ]
  }
 ],
 "metadata": {
  "kernelspec": {
   "display_name": "Python 3 (ipykernel)",
   "language": "python",
   "name": "python3"
  },
  "language_info": {
   "codemirror_mode": {
    "name": "ipython",
    "version": 3
   },
   "file_extension": ".py",
   "mimetype": "text/x-python",
   "name": "python",
   "nbconvert_exporter": "python",
   "pygments_lexer": "ipython3",
   "version": "3.10.11"
  }
 },
 "nbformat": 4,
 "nbformat_minor": 5
}
