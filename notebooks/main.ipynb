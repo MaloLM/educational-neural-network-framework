{
 "cells": [
  {
   "cell_type": "code",
   "execution_count": 1,
   "id": "c9800b8c-733d-4e4b-b00c-23e6b3dcc11f",
   "metadata": {},
   "outputs": [
    {
     "name": "stdout",
     "output_type": "stream",
     "text": [
      "Total params: 4488\n",
      "name: input\n",
      "neurons: 0\n",
      "activation function: None \n",
      "params: 0\n",
      "------------------------\n",
      "name: hidden\n",
      "neurons: 32\n",
      "activation function: relu \n",
      "params: 32\n",
      "------------------------\n",
      "name: hidden2\n",
      "neurons: 64\n",
      "activation function: relu \n",
      "params: 2112\n",
      "------------------------\n",
      "name: hidden3\n",
      "neurons: 32\n",
      "activation function: relu \n",
      "params: 2080\n",
      "------------------------\n",
      "name: output\n",
      "neurons: 8\n",
      "activation function: softmax \n",
      "params: 264\n",
      "------------------------\n"
     ]
    }
   ],
   "source": [
    "from neural_network.network import NeuralNetwork\n",
    "\n",
    "from neural_network.layers.input_layer import InputLayer\n",
    "from neural_network.layers.dense_layer import DenseLayer\n",
    "from neural_network.layers.output_layer import OutputLayer\n",
    "\n",
    "model = [\n",
    "    InputLayer(\"input\", 32), \n",
    "    DenseLayer(\"hidden\", 32, \"relu\"),\n",
    "    DenseLayer(\"hidden2\", 64, \"relu\"),\n",
    "    DenseLayer(\"hidden3\", 32, \"relu\"),\n",
    "    OutputLayer(\"output\", 8, \"softmax\")\n",
    "]\n",
    "\n",
    "nn = NeuralNetwork(model, \"gradient\")\n",
    "print(nn)"
   ]
  }
 ],
 "metadata": {
  "kernelspec": {
   "display_name": "Python 3 (ipykernel)",
   "language": "python",
   "name": "python3"
  },
  "language_info": {
   "codemirror_mode": {
    "name": "ipython",
    "version": 3
   },
   "file_extension": ".py",
   "mimetype": "text/x-python",
   "name": "python",
   "nbconvert_exporter": "python",
   "pygments_lexer": "ipython3",
   "version": "3.10.11"
  }
 },
 "nbformat": 4,
 "nbformat_minor": 5
}
