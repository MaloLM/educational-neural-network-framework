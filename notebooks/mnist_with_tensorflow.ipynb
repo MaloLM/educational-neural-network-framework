{
 "cells": [
  {
   "cell_type": "markdown",
   "id": "b2721c18-e5f8-4d68-aa6c-cac4073106f7",
   "metadata": {},
   "source": [
    "# MNIST training with Tensorflow\n",
    "\n",
    "[Source code](https://medium.com/@dhokashutosh245/training-a-tensorflow-ml-model-on-mnist-a-step-by-step-guide-372376ce26fc)"
   ]
  },
  {
   "cell_type": "markdown",
   "id": "3a7977c0-195b-468a-9a9c-7d120016be7f",
   "metadata": {},
   "source": [
    "## Imports"
   ]
  },
  {
   "cell_type": "code",
   "execution_count": 1,
   "id": "dde51540-bf66-4dfc-ac3c-728bf97f3bdc",
   "metadata": {},
   "outputs": [],
   "source": [
    "import tensorflow as tf\n",
    "import numpy as np\n",
    "import matplotlib.pyplot as plt"
   ]
  },
  {
   "cell_type": "markdown",
   "id": "1c757603-2b92-4d39-a4ea-94d666002f6f",
   "metadata": {},
   "source": [
    "## MNIST Loading"
   ]
  },
  {
   "cell_type": "code",
   "execution_count": 2,
   "id": "58bbeb3b-9f83-4b03-89fb-bfab562dbccb",
   "metadata": {},
   "outputs": [],
   "source": [
    "mnist = tf.keras.datasets.mnist\n",
    "\n",
    "(x_train, y_train), (x_test, y_test) = mnist.load_data()\n",
    "x_train, x_test = x_train / 255.0, x_test / 255.0 # normalisation"
   ]
  },
  {
   "cell_type": "markdown",
   "id": "e661ae61-2c5e-4b11-a352-0d8258d0ea39",
   "metadata": {},
   "source": [
    "## Sample checking"
   ]
  },
  {
   "cell_type": "code",
   "execution_count": 3,
   "id": "da7b7131-e0dd-4e63-a786-3e4ed094fd47",
   "metadata": {},
   "outputs": [
    {
     "data": {
      "image/png": "[encoded data removed]",
      "text/plain": [
       "<Figure size 640x480 with 2 Axes>"
      ]
     },
     "metadata": {},
     "output_type": "display_data"
    }
   ],
   "source": [
    "# random sample selection\n",
    "index = np.random.randint(0, x_train.shape[0])\n",
    "random_image = x_train[index]\n",
    "random_label = y_train[index]\n",
    "\n",
    "# sample display\n",
    "plt.imshow(random_image, cmap='gray')\n",
    "plt.title(f'Class: {random_label}')\n",
    "plt.colorbar()\n",
    "plt.grid(False)\n",
    "plt.show()"
   ]
  },
  {
   "cell_type": "markdown",
   "id": "ae735a7b-a1bd-452d-9aa0-5aacc315de86",
   "metadata": {},
   "source": [
    "## Model definition"
   ]
  },
  {
   "cell_type": "code",
   "execution_count": 4,
   "id": "c858e8d1-5c39-4b6c-93fe-948bcdabe880",
   "metadata": {},
   "outputs": [],
   "source": [
    "model = tf.keras.models.Sequential([\n",
    "    tf.keras.layers.Flatten(input_shape=(28,28)),\n",
    "    tf.keras.layers.Dense (64, activation=\"relu\"),\n",
    "    tf.keras.layers.Dense (32, activation=\"relu\"),\n",
    "    #tf.keras.layers.Dropout(0.2),\n",
    "    tf.keras.layers.Dense(10)\n",
    "])"
   ]
  },
  {
   "cell_type": "code",
   "execution_count": 5,
   "id": "7b022f13-dbca-43f4-8c99-22477b7f56f0",
   "metadata": {},
   "outputs": [],
   "source": [
    "loss_fn = tf.keras.losses.SparseCategoricalCrossentropy(from_logits=True)"
   ]
  },
  {
   "cell_type": "code",
   "execution_count": 6,
   "id": "88c03c69-1474-4fb6-8192-1766605455dc",
   "metadata": {},
   "outputs": [],
   "source": [
    "model.compile(\n",
    "    optimizer='adam',\n",
    "    loss=loss_fn,\n",
    "    metrics=[\"accuracy\"],\n",
    "    )"
   ]
  },
  {
   "cell_type": "markdown",
   "id": "f2529ed0-47b4-4de7-99b0-f5949709dff5",
   "metadata": {},
   "source": [
    "## Model training"
   ]
  },
  {
   "cell_type": "code",
   "execution_count": 7,
   "id": "7dc753eb-5016-41c6-9d0f-9e57e34aa9de",
   "metadata": {},
   "outputs": [
    {
     "name": "stdout",
     "output_type": "stream",
     "text": [
      "Epoch 1/5\n",
      "1875/1875 [==============================] - 1s 408us/step - loss: 0.2973 - accuracy: 0.9146\n",
      "Epoch 2/5\n",
      "1875/1875 [==============================] - 1s 418us/step - loss: 0.1357 - accuracy: 0.9592\n",
      "Epoch 3/5\n",
      "1875/1875 [==============================] - 1s 405us/step - loss: 0.1017 - accuracy: 0.9695\n",
      "Epoch 4/5\n",
      "1875/1875 [==============================] - 1s 400us/step - loss: 0.0805 - accuracy: 0.9756\n",
      "Epoch 5/5\n",
      "1875/1875 [==============================] - 1s 404us/step - loss: 0.0668 - accuracy: 0.9798\n"
     ]
    },
    {
     "data": {
      "text/plain": [
       "<keras.src.callbacks.History at 0x17a317be0>"
      ]
     },
     "execution_count": 7,
     "metadata": {},
     "output_type": "execute_result"
    }
   ],
   "source": [
    "model.fit(x_train, y_train, epochs=5)"
   ]
  },
  {
   "cell_type": "markdown",
   "id": "2eead44f-3ef5-40cc-bbe7-2b8082415bb8",
   "metadata": {},
   "source": [
    "## Model validation"
   ]
  },
  {
   "cell_type": "code",
   "execution_count": 8,
   "id": "444727b6-0a4a-4514-bee5-a3c1a91dc23b",
   "metadata": {},
   "outputs": [
    {
     "name": "stdout",
     "output_type": "stream",
     "text": [
      "313/313 - 0s - loss: 0.0793 - accuracy: 0.9752 - 124ms/epoch - 395us/step\n"
     ]
    }
   ],
   "source": [
    "res = model.evaluate(x_test, y_test, verbose=2)"
   ]
  }
 ],
 "metadata": {
  "kernelspec": {
   "display_name": "Python 3 (ipykernel)",
   "language": "python",
   "name": "python3"
  },
  "language_info": {
   "codemirror_mode": {
    "name": "ipython",
    "version": 3
   },
   "file_extension": ".py",
   "mimetype": "text/x-python",
   "name": "python",
   "nbconvert_exporter": "python",
   "pygments_lexer": "ipython3",
   "version": "3.10.11"
  }
 },
 "nbformat": 4,
 "nbformat_minor": 5
}
